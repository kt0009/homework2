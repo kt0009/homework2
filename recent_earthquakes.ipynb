{
 "metadata": {
  "name": "recent_earthquakes"
 },
 "nbformat": 3,
 "nbformat_minor": 0,
 "worksheets": [
  {
   "cells": [
    {
     "cell_type": "markdown",
     "metadata": {},
     "source": ""
    },
    {
     "cell_type": "code",
     "collapsed": false,
     "input": "import urllib\nimport json\nimport pandas as pd\n\nurl = 'http://earthquake.usgs.gov/earthquakes/feed/v1.0/summary/1.0_week.geojson'\nd = json.loads(urllib.urlopen(url).read())\n\ndata = pd.DataFrame(d.items())\n\ndata",
     "language": "python",
     "metadata": {},
     "outputs": [
      {
       "html": "<div style=\"max-height:1000px;max-width:1500px;overflow:auto;\">\n<table border=\"1\" class=\"dataframe\">\n  <thead>\n    <tr style=\"text-align: right;\">\n      <th></th>\n      <th>0</th>\n      <th>1</th>\n    </tr>\n  </thead>\n  <tbody>\n    <tr>\n      <th>0</th>\n      <td>     type</td>\n      <td>                                 FeatureCollection</td>\n    </tr>\n    <tr>\n      <th>1</th>\n      <td> features</td>\n      <td> [{u'geometry': {u'type': u'Point', u'coordinat...</td>\n    </tr>\n    <tr>\n      <th>2</th>\n      <td>     bbox</td>\n      <td> [-179.4843, -56.1898, -3.1, 179.6817, 66.7659,...</td>\n    </tr>\n    <tr>\n      <th>3</th>\n      <td> metadata</td>\n      <td> {u'status': 200, u'count': 1094, u'title': u'U...</td>\n    </tr>\n  </tbody>\n</table>\n</div>",
       "output_type": "pyout",
       "prompt_number": 122,
       "text": "          0                                                  1\n0      type                                  FeatureCollection\n1  features  [{u'geometry': {u'type': u'Point', u'coordinat...\n2      bbox  [-179.4843, -56.1898, -3.1, 179.6817, 66.7659,...\n3  metadata  {u'status': 200, u'count': 1094, u'title': u'U..."
      }
     ],
     "prompt_number": 122
    },
    {
     "cell_type": "code",
     "collapsed": false,
     "input": "data[1][1][0]",
     "language": "python",
     "metadata": {},
     "outputs": [
      {
       "output_type": "pyout",
       "prompt_number": 154,
       "text": "{u'geometry': {u'coordinates': [-151.5861, 62.4876, 91.2], u'type': u'Point'},\n u'id': u'ak10827027',\n u'properties': {u'alert': None,\n  u'cdi': None,\n  u'code': u'10827027',\n  u'detail': u'http://earthquake.usgs.gov/earthquakes/feed/v1.0/detail/ak10827027.geojson',\n  u'dmin': None,\n  u'felt': None,\n  u'gap': None,\n  u'ids': u',ak10827027,',\n  u'mag': 2,\n  u'magType': u'Ml',\n  u'mmi': None,\n  u'net': u'ak',\n  u'nst': None,\n  u'place': u'78km WNW of Talkeetna, Alaska',\n  u'rms': 0.75,\n  u'sig': 62,\n  u'sources': u',ak,',\n  u'status': u'AUTOMATIC',\n  u'time': 1382224764000,\n  u'title': u'M 2.0 - 78km WNW of Talkeetna, Alaska',\n  u'tsunami': None,\n  u'type': u'earthquake',\n  u'types': u',general-link,geoserve,nearby-cities,origin,tectonic-summary,',\n  u'tz': -480,\n  u'updated': 1382225159906,\n  u'url': u'http://earthquake.usgs.gov/earthquakes/eventpage/ak10827027'},\n u'type': u'Feature'}"
      }
     ],
     "prompt_number": 154
    },
    {
     "cell_type": "code",
     "collapsed": false,
     "input": "earthquakes = []\n\nfor fields in data[1][1]:\n\n    src = fields['properties']['net']\n    eqid = fields['properties']['code']\n    datetime = fields['properties']['time']\n    lon = fields['geometry']['coordinates'][0]\n    lat = fields['geometry']['coordinates'][1]\n    mag = fields['properties']['mag']\n    depth = fields['geometry']['coordinates'][2]\n    nst = fields['properties']['nst']\n    place = fields['properties']['place']\n    \n    earthquake = []\n    earthquake.append(src)\n    earthquake.append(eqid)\n    earthquake.append(datetime)\n    earthquake.append(lat)\n    earthquake.append(lon)\n    earthquake.append(mag)\n    earthquake.append(depth)\n    earthquake.append(nst)\n    earthquake.append(place)\n    earthquakes.append(earthquake)\n\n#earthquakes\n\ndf = pd.DataFrame(np.array(earthquakes), columns = ['Src','Eqid','Datetime','Lat','Lon','Mag','Depth','Nst','Place'])\ndf[0:10]",
     "language": "python",
     "metadata": {},
     "outputs": [
      {
       "html": "<div style=\"max-height:1000px;max-width:1500px;overflow:auto;\">\n<table border=\"1\" class=\"dataframe\">\n  <thead>\n    <tr style=\"text-align: right;\">\n      <th></th>\n      <th>Src</th>\n      <th>Eqid</th>\n      <th>Datetime</th>\n      <th>Lat</th>\n      <th>Lon</th>\n      <th>Mag</th>\n      <th>Depth</th>\n      <th>Nst</th>\n      <th>Place</th>\n    </tr>\n  </thead>\n  <tbody>\n    <tr>\n      <th>0</th>\n      <td> ak</td>\n      <td> 10827027</td>\n      <td> 1382224764000</td>\n      <td> 62.4876</td>\n      <td>-151.5861</td>\n      <td>   2</td>\n      <td>  91.2</td>\n      <td> None</td>\n      <td>              78km WNW of Talkeetna, Alaska</td>\n    </tr>\n    <tr>\n      <th>1</th>\n      <td> ci</td>\n      <td> 11380970</td>\n      <td> 1382223622400</td>\n      <td> 34.2318</td>\n      <td>-117.5148</td>\n      <td> 1.1</td>\n      <td>   8.6</td>\n      <td>   18</td>\n      <td>   15km NNE of Rancho Cucamonga, California</td>\n    </tr>\n    <tr>\n      <th>2</th>\n      <td> us</td>\n      <td> b000khfp</td>\n      <td> 1382222997200</td>\n      <td>  -6.591</td>\n      <td> 154.8243</td>\n      <td> 5.2</td>\n      <td> 48.73</td>\n      <td> None</td>\n      <td>      79km WSW of Panguna, Papua New Guinea</td>\n    </tr>\n    <tr>\n      <th>3</th>\n      <td> us</td>\n      <td> b000khf8</td>\n      <td> 1382220868060</td>\n      <td> 25.0957</td>\n      <td>-110.7486</td>\n      <td> 4.6</td>\n      <td>    10</td>\n      <td> None</td>\n      <td>      92km E of Ciudad Constitucion, Mexico</td>\n    </tr>\n    <tr>\n      <th>4</th>\n      <td> ci</td>\n      <td> 11380962</td>\n      <td> 1382220830100</td>\n      <td> 35.0973</td>\n      <td>-117.1453</td>\n      <td> 1.4</td>\n      <td>   7.8</td>\n      <td>   27</td>\n      <td>            24km NNW of Barstow, California</td>\n    </tr>\n    <tr>\n      <th>5</th>\n      <td> ci</td>\n      <td> 11380954</td>\n      <td> 1382219720300</td>\n      <td> 35.0978</td>\n      <td>-117.1468</td>\n      <td> 1.8</td>\n      <td>   7.5</td>\n      <td>   34</td>\n      <td>            24km NNW of Barstow, California</td>\n    </tr>\n    <tr>\n      <th>6</th>\n      <td> us</td>\n      <td> b000khf4</td>\n      <td> 1382219014350</td>\n      <td> 10.0048</td>\n      <td> 124.3151</td>\n      <td> 4.9</td>\n      <td> 58.49</td>\n      <td> None</td>\n      <td>    3km SW of Hinlayagan Ilaud, Philippines</td>\n    </tr>\n    <tr>\n      <th>7</th>\n      <td> ak</td>\n      <td> 10827016</td>\n      <td> 1382218708000</td>\n      <td>  62.807</td>\n      <td>-149.8005</td>\n      <td> 1.8</td>\n      <td>  49.3</td>\n      <td> None</td>\n      <td>              56km NNE of Talkeetna, Alaska</td>\n    </tr>\n    <tr>\n      <th>8</th>\n      <td> ak</td>\n      <td> 10827009</td>\n      <td> 1382218547000</td>\n      <td> 61.5215</td>\n      <td>-146.5167</td>\n      <td> 2.3</td>\n      <td>  29.1</td>\n      <td> None</td>\n      <td>                 44km NNW of Valdez, Alaska</td>\n    </tr>\n    <tr>\n      <th>9</th>\n      <td> pr</td>\n      <td> 13292006</td>\n      <td> 1382218332100</td>\n      <td> 18.1506</td>\n      <td> -68.1155</td>\n      <td> 3.2</td>\n      <td>   102</td>\n      <td>   13</td>\n      <td> 56km SSE of Punta Cana, Dominican Republic</td>\n    </tr>\n  </tbody>\n</table>\n</div>",
       "output_type": "pyout",
       "prompt_number": 144,
       "text": "  Src      Eqid       Datetime      Lat       Lon  Mag  Depth   Nst  \\\n0  ak  10827027  1382224764000  62.4876 -151.5861    2   91.2  None   \n1  ci  11380970  1382223622400  34.2318 -117.5148  1.1    8.6    18   \n2  us  b000khfp  1382222997200   -6.591  154.8243  5.2  48.73  None   \n3  us  b000khf8  1382220868060  25.0957 -110.7486  4.6     10  None   \n4  ci  11380962  1382220830100  35.0973 -117.1453  1.4    7.8    27   \n5  ci  11380954  1382219720300  35.0978 -117.1468  1.8    7.5    34   \n6  us  b000khf4  1382219014350  10.0048  124.3151  4.9  58.49  None   \n7  ak  10827016  1382218708000   62.807 -149.8005  1.8   49.3  None   \n8  ak  10827009  1382218547000  61.5215 -146.5167  2.3   29.1  None   \n9  pr  13292006  1382218332100  18.1506  -68.1155  3.2    102    13   \n\n                                        Place  \n0               78km WNW of Talkeetna, Alaska  \n1    15km NNE of Rancho Cucamonga, California  \n2       79km WSW of Panguna, Papua New Guinea  \n3       92km E of Ciudad Constitucion, Mexico  \n4             24km NNW of Barstow, California  \n5             24km NNW of Barstow, California  \n6     3km SW of Hinlayagan Ilaud, Philippines  \n7               56km NNE of Talkeetna, Alaska  \n8                  44km NNW of Valdez, Alaska  \n9  56km SSE of Punta Cana, Dominican Republic  "
      }
     ],
     "prompt_number": 144
    },
    {
     "cell_type": "code",
     "collapsed": false,
     "input": "california = df[df.Src=='ci']\ncalifornia[0:5]\nprint california.Lon[0:5]\ncalifornia.Lat[0:5]",
     "language": "python",
     "metadata": {},
     "outputs": [
      {
       "output_type": "stream",
       "stream": "stdout",
       "text": "1    -117.5148\n4    -117.1453\n5    -117.1468\n12   -117.6545\n16   -119.0537\nName: Lon\n"
      },
      {
       "output_type": "pyout",
       "prompt_number": 149,
       "text": "1     34.2318\n4     35.0973\n5     35.0978\n12    35.9468\n16    34.4393\nName: Lat"
      }
     ],
     "prompt_number": 149
    },
    {
     "cell_type": "code",
     "collapsed": false,
     "input": "from mpl_toolkits.basemap import Basemap\n\ndef plot_quakes(quakes):\n    m = Basemap(llcrnrlon=-124.960938,llcrnrlat=41.956070,\n                urcrnrlon=-114.062500,urcrnrlat=32.236792,\n                resolution='l',area_thresh=1000.,projection='merc',\n                lat_0=37.147894,lon_0=-119.599609)\n    m.drawcoastlines()\n    m.drawcountries()\n    m.fillcontinents(color='coral',lake_color='blue')\n    m.drawmapboundary(fill_color='aqua')\n    x, y = m(quakes.Lon, quakes.Lat)\n    m.plot(x, y, 'k.')\n    return m\n\nplot_quakes(california)",
     "language": "python",
     "metadata": {},
     "outputs": [
      {
       "output_type": "pyout",
       "prompt_number": 153,
       "text": "<mpl_toolkits.basemap.Basemap at 0x781ded0>"
      },
      {
       "output_type": "display_data",
       "png": "[encoded data removed]"
      }
     ],
     "prompt_number": 153
    },
    {
     "cell_type": "code",
     "collapsed": false,
     "input": "",
     "language": "python",
     "metadata": {},
     "outputs": []
    }
   ],
   "metadata": {}
  }
 ]
}